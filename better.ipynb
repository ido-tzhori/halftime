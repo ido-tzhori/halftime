{
 "cells": [
  {
   "cell_type": "code",
   "execution_count": 1,
   "id": "5788216d",
   "metadata": {},
   "outputs": [
    {
     "name": "stderr",
     "output_type": "stream",
     "text": [
      "C:\\Users\\idotz\\anaconda3\\envs\\p37\\lib\\site-packages\\numpy\\_distributor_init.py:32: UserWarning: loaded more than 1 DLL from .libs:\n",
      "C:\\Users\\idotz\\anaconda3\\envs\\p37\\lib\\site-packages\\numpy\\.libs\\libopenblas.4SP5SUA7CBGXUEOC35YP2ASOICYYEQZZ.gfortran-win_amd64.dll\n",
      "C:\\Users\\idotz\\anaconda3\\envs\\p37\\lib\\site-packages\\numpy\\.libs\\libopenblas.WCDJNK7YVMPZQ2ME2ZZHJJRJ3JIKNDB7.gfortran-win_amd64.dll\n",
      "  stacklevel=1)\n"
     ]
    }
   ],
   "source": [
    "from pycaret.classification import *\n",
    "from selenium import webdriver\n",
    "import pandas as pd\n",
    "import numpy as np\n",
    "from selenium.webdriver.common.by import By\n",
    "import random\n",
    "from datetime import datetime, timedelta\n",
    "import pickle\n",
    "from fuzzywuzzy import fuzz, process\n",
    "from fractions import Fraction\n",
    "import time\n",
    "import collections\n",
    "import concurrent.futures\n",
    "from collections import defaultdict\n",
    "import json\n",
    "from oddsapi import OddsApiClient\n",
    "import requests\n",
    "from bs4 import BeautifulSoup"
   ]
  },
  {
   "cell_type": "code",
   "execution_count": 22,
   "id": "ab6ff52b",
   "metadata": {},
   "outputs": [],
   "source": [
    "open_file = open('model_columns.pkl', \"rb\")\n",
    "model_columns = list(pickle.load(open_file))\n",
    "open_file.close()"
   ]
  },
  {
   "cell_type": "code",
   "execution_count": 27,
   "id": "cd4e49d2",
   "metadata": {},
   "outputs": [
    {
     "data": {
      "text/plain": [
       "['Shot Attempts',\n",
       " 'Total xG',\n",
       " 'Offsides',\n",
       " 'Pass Completion',\n",
       " 'Goals',\n",
       " 'Corners',\n",
       " 'Fouls Committed',\n",
       " 'Total Shots on Target',\n",
       " 'Shots Blocked']"
      ]
     },
     "execution_count": 27,
     "metadata": {},
     "output_type": "execute_result"
    }
   ],
   "source": [
    "model_columns"
   ]
  },
  {
   "cell_type": "code",
   "execution_count": 33,
   "id": "0ee2b861",
   "metadata": {},
   "outputs": [],
   "source": [
    "scraped_cols = ['Total shots','Expected goals (xG)','Offsides','Accurate passes percentage','score','Corners','Fouls committed','Shots on target','Blocks']\n",
    "pred_cols = dict(zip(model_columns, scraped_cols))"
   ]
  },
  {
   "cell_type": "code",
   "execution_count": 82,
   "id": "8295b5a1",
   "metadata": {},
   "outputs": [
    {
     "data": {
      "text/plain": [
       "{'Shot Attempts': 'Total shots',\n",
       " 'Total xG': 'Expected goals (xG)',\n",
       " 'Offsides': 'Offsides',\n",
       " 'Pass Completion': 'Accurate passes percentage',\n",
       " 'Goals': 'score',\n",
       " 'Corners': 'Corners',\n",
       " 'Fouls Committed': 'Fouls committed',\n",
       " 'Total Shots on Target': 'Shots on target',\n",
       " 'Shots Blocked': 'Blocks'}"
      ]
     },
     "execution_count": 82,
     "metadata": {},
     "output_type": "execute_result"
    }
   ],
   "source": [
    "pred_cols"
   ]
  },
  {
   "cell_type": "code",
   "execution_count": 37,
   "id": "a7ae4d9f",
   "metadata": {},
   "outputs": [
    {
     "name": "stdout",
     "output_type": "stream",
     "text": [
      "Transformation Pipeline and Model Successfully Loaded\n"
     ]
    }
   ],
   "source": [
    "model = load_model('lr_model')"
   ]
  },
  {
   "cell_type": "code",
   "execution_count": 108,
   "id": "c9122ca3",
   "metadata": {
    "collapsed": true
   },
   "outputs": [
    {
     "name": "stdout",
     "output_type": "stream",
     "text": [
      "{'2022-08-26 13:53:00': [['horsens-vs-agf-aarhus', 'DENMARK - SUPERLIGAEN', 'https://www.fotmob.com/match/3887412/matchfacts/horsens-vs-agf-aarhus', 'https://www.oddschecker.com/football/denmark/superligaen/ac-horsens-v-agf-aarhus/winner']], '2022-08-26 14:53:00': [['girona-vs-celta-vigo', 'SPAIN - LALIGA', 'https://www.fotmob.com/match/3917956/matchfacts/girona-vs-celta-vigo', 'https://www.oddschecker.com/football/spain/la-liga-primera/girona-v-celta-vigo/winner'], ['nec-nijmegen-vs-fc-groningen', 'NETHERLANDS - EREDIVISIE', 'https://www.fotmob.com/match/3900368/matchfacts/nec-nijmegen-vs-fc-groningen', 'https://www.oddschecker.com/football/netherlands/eredivisie/nec-v-fc-groningen/winner']], '2022-08-26 15:23:00': [['sc-freiburg-vs-vfl-bochum', 'GERMANY - BUNDESLIGA', 'https://www.fotmob.com/match/3903573/matchfacts/sc-freiburg-vs-vfl-bochum', 'https://www.oddschecker.com/football/germany/bundesliga/sc-freiburg-v-bochum/winner']], '2022-08-26 15:38:00': [['sporting-charleroi-vs-club-brugge', 'BELGIUM - FIRST DIVISION A', 'https://www.fotmob.com/match/3916978/matchfacts/sporting-charleroi-vs-club-brugge', 'https://www.oddschecker.com/football/belgium/jupiler-pro-league/charleroi-v-club-brugge/winner']], '2022-08-26 15:53:00': [['ac-ajaccio-vs-lille', 'FRANCE - LIGUE 1', 'https://www.fotmob.com/match/3904419/matchfacts/ac-ajaccio-vs-lille', 'https://www.oddschecker.com/football/france/ligue-1/ac-ajaccio-v-lille/winner'], ['luton-town-vs-sheffield-united', 'ENGLAND - CHAMPIONSHIP', 'https://www.fotmob.com/match/3915350/matchfacts/luton-town-vs-sheffield-united', 'https://www.oddschecker.com/football/english/championship/luton-v-sheffield-united/winner']], '2022-08-26 16:08:00': [['pacos-de-ferreira-vs-estoril', 'PORTUGAL - LIGA PORTUGAL', 'https://www.fotmob.com/match/3937389/matchfacts/pacos-de-ferreira-vs-estoril', 'https://www.oddschecker.com/football/portugal/primeira-liga/pacos-ferreira-v-estoril/winner']], '2022-08-26 16:53:00': [['real-betis-vs-osasuna', 'SPAIN - LALIGA', 'https://www.fotmob.com/match/3917949/matchfacts/real-betis-vs-osasuna', 'https://www.oddschecker.com/football/spain/la-liga-primera/real-betis-v-osasuna/winner']], '2022-08-26 20:53:00': [['austin-fc-vs-los-angeles-fc', 'UNITED STATES - MAJOR LEAGUE SOCCER', 'https://www.fotmob.com/match/3787581/matchfacts/austin-fc-vs-los-angeles-fc', 'https://www.oddschecker.com/football/world/usa/mls/austin-fc-v-los-angeles-fc/winner'], ['puebla-vs-fc-juarez', 'MEXICO - LIGA MX APERTURA', 'https://www.fotmob.com/match/3888550/matchfacts/puebla-vs-fc-juarez', 'https://www.oddschecker.com/football/world/mexico/liga-mx/puebla-v-fc-juarez/winner']], '2022-08-26 22:53:00': [['portland-timbers-vs-seattle-sounders-fc', 'UNITED STATES - MAJOR LEAGUE SOCCER', 'https://www.fotmob.com/match/3787582/matchfacts/portland-timbers-vs-seattle-sounders-fc', 'https://www.oddschecker.com/football/world/usa/mls/portland-timbers-v-seattle-sounders-fc/winner']], '2022-08-26 22:58:00': [['mazatlan-fc-vs-cf-america', 'MEXICO - LIGA MX APERTURA', 'https://www.fotmob.com/match/3888551/matchfacts/mazatlan-fc-vs-cf-america', 'https://www.oddschecker.com/football/world/mexico/liga-mx/mazatlan-fc-v-cf-america/winner']]}\n"
     ]
    }
   ],
   "source": [
    "today = f\"{datetime.now():%Y%m%d}\"\n",
    "game_data = fotmob_game_data(f'https://www.fotmob.com/?date={today}')\n",
    "all_odds = get_all_odds_links()\n",
    "days_data = connect_links(game_data, all_odds)"
   ]
  },
  {
   "cell_type": "code",
   "execution_count": 127,
   "id": "b3e38ee5",
   "metadata": {},
   "outputs": [
    {
     "data": {
      "text/plain": [
       "{'2022-08-26 13:53:00': [['horsens-vs-agf-aarhus',\n",
       "   'DENMARK - SUPERLIGAEN',\n",
       "   'https://www.fotmob.com/match/3887412/matchfacts/horsens-vs-agf-aarhus',\n",
       "   'https://www.oddschecker.com/football/denmark/superligaen/ac-horsens-v-agf-aarhus/winner']],\n",
       " '2022-08-26 14:53:00': [['girona-vs-celta-vigo',\n",
       "   'SPAIN - LALIGA',\n",
       "   'https://www.fotmob.com/match/3917956/matchfacts/girona-vs-celta-vigo',\n",
       "   'https://www.oddschecker.com/football/spain/la-liga-primera/girona-v-celta-vigo/winner'],\n",
       "  ['nec-nijmegen-vs-fc-groningen',\n",
       "   'NETHERLANDS - EREDIVISIE',\n",
       "   'https://www.fotmob.com/match/3900368/matchfacts/nec-nijmegen-vs-fc-groningen',\n",
       "   'https://www.oddschecker.com/football/netherlands/eredivisie/nec-v-fc-groningen/winner']],\n",
       " '2022-08-26 15:23:00': [['sc-freiburg-vs-vfl-bochum',\n",
       "   'GERMANY - BUNDESLIGA',\n",
       "   'https://www.fotmob.com/match/3903573/matchfacts/sc-freiburg-vs-vfl-bochum',\n",
       "   'https://www.oddschecker.com/football/germany/bundesliga/sc-freiburg-v-bochum/winner']],\n",
       " '2022-08-26 15:38:00': [['sporting-charleroi-vs-club-brugge',\n",
       "   'BELGIUM - FIRST DIVISION A',\n",
       "   'https://www.fotmob.com/match/3916978/matchfacts/sporting-charleroi-vs-club-brugge',\n",
       "   'https://www.oddschecker.com/football/belgium/jupiler-pro-league/charleroi-v-club-brugge/winner']],\n",
       " '2022-08-26 15:53:00': [['ac-ajaccio-vs-lille',\n",
       "   'FRANCE - LIGUE 1',\n",
       "   'https://www.fotmob.com/match/3904419/matchfacts/ac-ajaccio-vs-lille',\n",
       "   'https://www.oddschecker.com/football/france/ligue-1/ac-ajaccio-v-lille/winner'],\n",
       "  ['luton-town-vs-sheffield-united',\n",
       "   'ENGLAND - CHAMPIONSHIP',\n",
       "   'https://www.fotmob.com/match/3915350/matchfacts/luton-town-vs-sheffield-united',\n",
       "   'https://www.oddschecker.com/football/english/championship/luton-v-sheffield-united/winner']],\n",
       " '2022-08-26 16:08:00': [['pacos-de-ferreira-vs-estoril',\n",
       "   'PORTUGAL - LIGA PORTUGAL',\n",
       "   'https://www.fotmob.com/match/3937389/matchfacts/pacos-de-ferreira-vs-estoril',\n",
       "   'https://www.oddschecker.com/football/portugal/primeira-liga/pacos-ferreira-v-estoril/winner']],\n",
       " '2022-08-26 16:53:00': [['real-betis-vs-osasuna',\n",
       "   'SPAIN - LALIGA',\n",
       "   'https://www.fotmob.com/match/3917949/matchfacts/real-betis-vs-osasuna',\n",
       "   'https://www.oddschecker.com/football/spain/la-liga-primera/real-betis-v-osasuna/winner']],\n",
       " '2022-08-26 20:53:00': [['austin-fc-vs-los-angeles-fc',\n",
       "   'UNITED STATES - MAJOR LEAGUE SOCCER',\n",
       "   'https://www.fotmob.com/match/3787581/matchfacts/austin-fc-vs-los-angeles-fc',\n",
       "   'https://www.oddschecker.com/football/world/usa/mls/austin-fc-v-los-angeles-fc/winner'],\n",
       "  ['puebla-vs-fc-juarez',\n",
       "   'MEXICO - LIGA MX APERTURA',\n",
       "   'https://www.fotmob.com/match/3888550/matchfacts/puebla-vs-fc-juarez',\n",
       "   'https://www.oddschecker.com/football/world/mexico/liga-mx/puebla-v-fc-juarez/winner']],\n",
       " '2022-08-26 22:53:00': [['portland-timbers-vs-seattle-sounders-fc',\n",
       "   'UNITED STATES - MAJOR LEAGUE SOCCER',\n",
       "   'https://www.fotmob.com/match/3787582/matchfacts/portland-timbers-vs-seattle-sounders-fc',\n",
       "   'https://www.oddschecker.com/football/world/usa/mls/portland-timbers-v-seattle-sounders-fc/winner']],\n",
       " '2022-08-26 22:58:00': [['mazatlan-fc-vs-cf-america',\n",
       "   'MEXICO - LIGA MX APERTURA',\n",
       "   'https://www.fotmob.com/match/3888551/matchfacts/mazatlan-fc-vs-cf-america',\n",
       "   'https://www.oddschecker.com/football/world/mexico/liga-mx/mazatlan-fc-v-cf-america/winner']]}"
      ]
     },
     "execution_count": 127,
     "metadata": {},
     "output_type": "execute_result"
    }
   ],
   "source": [
    "days_data"
   ]
  },
  {
   "cell_type": "code",
   "execution_count": null,
   "id": "c409e2e8",
   "metadata": {
    "scrolled": true
   },
   "outputs": [
    {
     "name": "stdout",
     "output_type": "stream",
     "text": [
      "10 halftimes left -- 0\n",
      "\n",
      "10 halftimes left -- 0\n",
      "\n",
      "10 halftimes left -- 0\n",
      "\n",
      "10 halftimes left -- 0\n",
      "\n",
      "10 halftimes left -- 0\n",
      "\n",
      "10 halftimes left -- 0\n",
      "\n",
      "10 halftimes left -- 0\n",
      "\n",
      "10 halftimes left -- 0\n",
      "\n",
      "10 halftimes left -- 0\n",
      "\n",
      "10 halftimes left -- 0\n",
      "\n",
      "10 halftimes left -- 0\n",
      "\n",
      "10 halftimes left -- 0\n",
      "\n",
      "10 halftimes left -- 0\n",
      "\n",
      "10 halftimes left -- 0\n",
      "\n",
      "10 halftimes left -- 0\n",
      "\n",
      "10 halftimes left -- 0\n",
      "\n",
      "10 halftimes left -- 0\n",
      "\n",
      "10 halftimes left -- 0\n",
      "\n",
      "10 halftimes left -- 0\n",
      "\n",
      "10 halftimes left -- 0\n",
      "\n",
      "10 halftimes left -- 0\n",
      "\n",
      "10 halftimes left -- 0\n",
      "\n",
      "10 halftimes left -- 0\n",
      "\n",
      "10 halftimes left -- 0\n",
      "\n",
      "10 halftimes left -- 0\n",
      "\n",
      "10 halftimes left -- 0\n",
      "\n",
      "10 halftimes left -- 0\n",
      "\n",
      "10 halftimes left -- 0\n",
      "\n",
      "10 halftimes left -- 0\n",
      "\n",
      "10 halftimes left -- 0\n",
      "\n",
      "10 halftimes left -- 0\n",
      "\n",
      "10 halftimes left -- 0\n",
      "\n",
      "10 halftimes left -- 0\n",
      "\n",
      "10 halftimes left -- 0\n",
      "\n",
      "10 halftimes left -- 0\n",
      "\n",
      "10 halftimes left -- 0\n",
      "\n",
      "10 halftimes left -- 0\n",
      "\n",
      "10 halftimes left -- 0\n",
      "\n",
      "10 halftimes left -- 0\n",
      "\n",
      "10 halftimes left -- 0\n",
      "\n",
      "10 halftimes left -- 0\n",
      "\n",
      "10 halftimes left -- 0\n",
      "\n",
      "10 halftimes left -- 0\n",
      "\n",
      "10 halftimes left -- 0\n",
      "\n"
     ]
    }
   ],
   "source": [
    "c = days_data.copy()\n",
    "todays_data = []\n",
    "\n",
    "while True:\n",
    "    for clock in c.copy().keys():\n",
    "        if datetime.strptime(clock, \"%Y-%m-%d %H:%M:%S\") <= datetime.now():\n",
    "            stats_urls = [x[2] for x in c[clock]]\n",
    "            odds_urls = [x[3] for x in c[clock]]\n",
    "            print(stats_urls, odds_urls)\n",
    "            with concurrent.futures.ThreadPoolExecutor() as executor:\n",
    "                r = executor.map(stats_odds, stats_urls, odds_urls)\n",
    "            for result in r:\n",
    "                todays_data.append(result)\n",
    "            del c[clock]\n",
    "    print(f'{len(c)} halftimes left -- {len(todays_data)}\\n')\n",
    "    if len(c) == 0:\n",
    "        print('all done')\n",
    "        break\n",
    "    time.sleep(60)\n",
    "\n",
    "open_file = open(f'{today}_data.pkl', \"wb\")\n",
    "pickle.dump(today_data, open_file)\n",
    "open_file.close()"
   ]
  },
  {
   "cell_type": "code",
   "execution_count": 20,
   "id": "42e0d885",
   "metadata": {},
   "outputs": [],
   "source": [
    "t = {'Expected goals (xG)': -0.030000000000000027,\n",
    "  'Total shots': 2.0,\n",
    "  'Big chances': -1.0,\n",
    "  'Big chances missed': -1.0,\n",
    "  'Accurate passes': 119.0,\n",
    "  'Accurate passes percentage': 0.12,\n",
    "  'Fouls committed': 0.0,\n",
    "  'Offsides': 0.0,\n",
    "  'Corners': 1.0,\n",
    "  'Shots off target': 0.0,\n",
    "  'Shots on target': -3.0,\n",
    "  'Blocked shots': 5.0,\n",
    "  'Hit woodwork': 0.0,\n",
    "  'Shots inside box': 1.0,\n",
    "  'Shots outside box': 1.0,\n",
    "  'xG open play': -0.26,\n",
    "  'xG set play': 0.24,\n",
    "  'xG on target (xGOT)': -0.72,\n",
    "  'Passes': 120.0,\n",
    "  'Own half': 54.0,\n",
    "  'Opposition half': 65.0,\n",
    "  'Accurate long balls': 19.0,\n",
    "  'Accurate long balls percentage': 0.39,\n",
    "  'Accurate crosses': 2.0,\n",
    "  'Accurate crosses percentage': -0.09999999999999998,\n",
    "  'Throws': 0.0,\n",
    "  'Yellow cards': -1.0,\n",
    "  'Red cards': 0.0,\n",
    "  'Tackles won': 5.0,\n",
    "  'Tackles won percentage': 0.22000000000000003,\n",
    "  'Interceptions': -2.0,\n",
    "  'Blocks': -5.0,\n",
    "  'Clearances': -10.0,\n",
    "  'Keeper saves': 1.0,\n",
    "  'Duels won': 1.0,\n",
    "  'Ground duels won': 2.0,\n",
    "  'Ground duels won percentage': 0.10000000000000003,\n",
    "  'Aerial duels won': -1.0,\n",
    "  'Aerial duels won percentage': -0.06999999999999995,\n",
    "  'Successful dribbles': -5.0,\n",
    "  'Successful dribbles percentage': 0.18000000000000005,\n",
    "  'score': -3.0,\n",
    "  'posession': 32.0,\n",
    "  'match_name': 'leon-vs-mazatlan-fc',\n",
    "  'half_time': 'Half-Time',\n",
    "  'url': 'https://www.fotmob.com/match/3888521/matchfacts/leon-vs-mazatlan-fc',\n",
    "     'odds': {'Club Leon': 36.0,\n",
    "  'Draw': 13.0,\n",
    "  'Mazatlan FC': 1.05}}"
   ]
  },
  {
   "cell_type": "code",
   "execution_count": 92,
   "id": "12aac363",
   "metadata": {},
   "outputs": [],
   "source": [
    "def predicted_probs(results):\n",
    "    d = {}\n",
    "    for k, v in results.items():\n",
    "        try:\n",
    "            d[k] = float(v[0]) - float(v[1])\n",
    "        except:\n",
    "            d[k] = v\n",
    "    for_pred = [[d[key] for key in pred_cols.values()]]\n",
    "    pred = model[-1].predict_proba(for_pred)\n",
    "    return pred"
   ]
  },
  {
   "cell_type": "code",
   "execution_count": 89,
   "id": "ddcc0db3",
   "metadata": {},
   "outputs": [
    {
     "name": "stdout",
     "output_type": "stream",
     "text": [
      "not halftime just yet ... sleeping\n",
      "time: Full-Time\n"
     ]
    }
   ],
   "source": [
    "x = get_stats('https://www.fotmob.com/match/3900956/matchfacts/leeds-united-vs-chelsea')"
   ]
  },
  {
   "cell_type": "code",
   "execution_count": 38,
   "id": "0832a6a8",
   "metadata": {},
   "outputs": [],
   "source": [
    "def make_bet(decimal_odds, predicted_prob, k_weight):\n",
    "    if 1/decimal_odds >= predicted_prob:\n",
    "        return 'no value'\n",
    "    else:\n",
    "        return kelly(predicted_prob, decimal_odds, k_weight)"
   ]
  },
  {
   "cell_type": "code",
   "execution_count": 130,
   "id": "0238b95a",
   "metadata": {},
   "outputs": [],
   "source": [
    "def print_advice(results):\n",
    "    try:\n",
    "        p_probs = predicted_probs(results)[0]\n",
    "        predicted = np.argmax(p_probs)\n",
    "        decimal_odds = list(results['odds'].values())\n",
    "        bet_made = {}\n",
    "        print('\\033[1m' + results['match_name'] + '\\033[0m')\n",
    "        print(f'Predicted winner is {predicted}\\n')\n",
    "        for p_prob, d_odd, win in zip(p_probs, decimal_odds, ['draw', 'home','away']):\n",
    "            p_prob = round(p_prob, 3)\n",
    "            d_odd = round(d_odd, 3)\n",
    "            size = make_bet(d_odd, p_prob, 0.5)\n",
    "            print(f'{win}: predicted prob: {p_prob*100}% - oddschecker: {round(1/d_odd*100,2)}% ({d_odd}) ---- bet {size}')\n",
    "            bet_made[win] = size\n",
    "        print('\\n')\n",
    "        bet_made['odds_checker_sum'] = np.sum([1/o for o in decimal_odds])\n",
    "        bet_made['winner'] = predicted\n",
    "        bet_made['predicted_probs'] = np.round(p_probs, 3)\n",
    "        bets = {'bet':bet_made} \n",
    "        row = {**results, **bets}\n",
    "    except:\n",
    "        row = results\n",
    "    return row"
   ]
  },
  {
   "cell_type": "code",
   "execution_count": 133,
   "id": "0079be80",
   "metadata": {},
   "outputs": [
    {
     "name": "stdout",
     "output_type": "stream",
     "text": [
      "hello\n"
     ]
    }
   ],
   "source": [
    "print(print_advice('hello'))"
   ]
  },
  {
   "cell_type": "code",
   "execution_count": 126,
   "id": "17287ef6",
   "metadata": {},
   "outputs": [
    {
     "name": "stdout",
     "output_type": "stream",
     "text": [
      "\u001b[1mleon-vs-mazatlan-fc\u001b[0m\n",
      "Predicted winner is 2\n",
      "\n",
      "draw: predicted prob: 9.8% - oddschecker: 2.78% (36.0) ---- bet 0.0361\n",
      "home: predicted prob: 0.3% - oddschecker: 7.69% (13.0) ---- bet no value\n",
      "away: predicted prob: 89.9% - oddschecker: 95.24% (1.05) ---- bet no value\n",
      "\n",
      "\n"
     ]
    }
   ],
   "source": [
    "z = print_advice(t)"
   ]
  },
  {
   "cell_type": "code",
   "execution_count": 41,
   "id": "4e818943",
   "metadata": {},
   "outputs": [],
   "source": [
    "def kelly(p, b, weight):\n",
    "    stake = round((p * (b - 1) - (1 - p)) / (b - 1), 4) * weight\n",
    "    return stake if stake > 0.0 else 'no value'"
   ]
  },
  {
   "cell_type": "code",
   "execution_count": 42,
   "id": "631e09b0",
   "metadata": {},
   "outputs": [],
   "source": [
    "def getname(name, l):\n",
    "    if len(l) == 0:\n",
    "        return ''\n",
    "    highest = process.extractOne(name,l)\n",
    "    return highest[0]"
   ]
  },
  {
   "cell_type": "code",
   "execution_count": 136,
   "id": "563eb2e5",
   "metadata": {},
   "outputs": [],
   "source": [
    "def get_stats(url):\n",
    "    driver = webdriver.Chrome()\n",
    "    try:\n",
    "        driver.implicitly_wait(random.randint(0, 6))\n",
    "        driver.get(url)\n",
    "        ht = driver.find_elements(By.XPATH, '//span[@class=\"css-8ngw4i-bottomRow\"]')[1].text\n",
    "        if ht != 'Half-Time':\n",
    "            print('not halftime just yet ... sleeping\\n')\n",
    "            time.sleep(3*60)\n",
    "            ht = driver.find_elements(By.XPATH, '//span[@class=\"css-8ngw4i-bottomRow\"]')[1].text\n",
    "        button = driver.find_elements(By.XPATH, '(//button[@class=\"css-12l9xvx-ExpandButton e7i6a0l0\"])[2]')[0]\n",
    "        button.click()\n",
    "        div1 = driver.find_elements(By.XPATH, '//li[@class=\"css-radwzz-Stat e683amr6\"]')\n",
    "        t = {k[1]: [k[0], k[2]] for k in [i.split('\\n') for i in [x for x in [d.text for d in div1]\n",
    "              if x not in ['Shots','Passes','Expected goals (xG)','Discipline','Defence','Duels']]]}\n",
    "        score = driver.find_element(By.XPATH, '//span[@class=\"css-bw7eig-topRow\"]').get_attribute('textContent').split(' ')\n",
    "        t['score'] = [score[0], score[2]]\n",
    "        posession = driver.find_element(By.XPATH, '//div[@class=\"css-7s52se-PossessionWheel e683amr3\"]').text.split('\\n')\n",
    "        t['posession'] = [posession[1].replace('%',''), posession[2].replace('%','')]\n",
    "        game_stats = {}\n",
    "        for name, stats in t.items():\n",
    "            if '(' in ''.join(stats):\n",
    "                s = stats[0].split(' ') + stats[1].split(' ')\n",
    "                if len(s) == 4:\n",
    "                    s = [i.replace('(', '').replace(')','').replace('%','') for i in s]\n",
    "                    game_stats[name] = [s[0], s[2]]\n",
    "                    game_stats[name + ' percentage'] = [int(s[1])/100, int(s[3])/100]\n",
    "                else:\n",
    "                    s = [i for i in s if '%' not in i]\n",
    "                    game_stats[name] = s\n",
    "            else:\n",
    "                game_stats[name] = stats\n",
    "#         game_stats = {k: float(v[0]) - float(v[1]) for k, v in game_stats.items()}\n",
    "        game_stats['match_name'] = url.split('/')[-1]\n",
    "        game_stats['half_time'] = ht\n",
    "        game_stats['url'] = url\n",
    "    except:\n",
    "        game_stats = {}\n",
    "    driver.quit()\n",
    "    return game_stats"
   ]
  },
  {
   "cell_type": "code",
   "execution_count": 44,
   "id": "97c44d5d",
   "metadata": {},
   "outputs": [],
   "source": [
    "xg_leagues = {'UNITED STATES - MAJOR LEAGUE SOCCER':'world/usa/mls','ENGLAND - CHAMPIONSHIP':'english/championship',\n",
    "              'ENGLAND - PREMIER LEAGUE': 'english/premier-league', 'GERMANY - BUNDESLIGA': 'germany/bundesliga',\n",
    "              'FRANCE - LIGUE 1': 'france/ligue-1','AUSTRIA - BUNDESLIGA': 'austria/bundesliga',\n",
    "              'PORTUGAL - LIGA PORTUGAL':'portugal/primeira-liga', 'BELGIUM - FIRST DIVISION A':'belgium/jupiler-pro-league',\n",
    "              'SWITZERLAND - SUPER LEAGUE':'switzerland/super-league','SPAIN - LALIGA':'spain/la-liga-primera',\n",
    "             'DENMARK - SUPERLIGAEN':'denmark/superligaen', 'MEXICO - LIGA MX APERTURA':'world/mexico/liga-mx',\n",
    "             'NETHERLANDS - EREDIVISIE':'netherlands/eredivisie', 'SCOTLAND - PREMIERSHIP': 'scottish/premiership'}\n",
    "\n",
    "def fotmob_game_data(url):\n",
    "    driver = webdriver.Chrome()\n",
    "    driver.implicitly_wait(3)\n",
    "    driver.get(url)\n",
    "    divs = driver.find_elements(By.XPATH, '//div[@class=\"css-aoqfcq-Group e7pc1841\"]')\n",
    "    today = url[-8:]\n",
    "    league = {}\n",
    "    for count, bucket in enumerate(divs):\n",
    "        league_name = bucket.find_elements(By.XPATH, '//a[@class=\"css-vfisw6-GroupTitleLink e7pc1842\"]')[count].text\n",
    "        if league_name not in xg_leagues.keys():\n",
    "            continue\n",
    "        url = bucket.find_elements(By.TAG_NAME, 'a')\n",
    "        urls = [u.get_attribute('href') for u in url]\n",
    "        time = bucket.text\n",
    "        time = [datetime.strptime(i + today, '%H:%M%Y%m%d') + timedelta(minutes=53) for i in time.split('\\n') if ':' in i]\n",
    "        urls = urls[1:]\n",
    "        names = [u.split('/')[-1] for u in urls]\n",
    "        league[league_name] = {n: [u,t] for u, t, n in zip(urls, time, names)}\n",
    "    return league"
   ]
  },
  {
   "cell_type": "code",
   "execution_count": 46,
   "id": "3d14230b",
   "metadata": {},
   "outputs": [],
   "source": [
    "def get_all_odds_links():\n",
    "    odds_links = {}\n",
    "    for f_league, url_league in xg_leagues.items():\n",
    "        driver = webdriver.Chrome()\n",
    "        driver.implicitly_wait(3)\n",
    "        url = 'https://www.oddschecker.com/football/' + url_league\n",
    "        driver.get(url)\n",
    "        driver.implicitly_wait(3)\n",
    "        divs = driver.find_elements(By.XPATH, '//a[@class=\"beta-callout full-height-link whole-row-link\"]')\n",
    "        mt = []\n",
    "        for div in divs:\n",
    "            odds_url = div.get_attribute('href')\n",
    "            mt.append(odds_url)\n",
    "        odds_links[f_league] = mt\n",
    "    return odds_links"
   ]
  },
  {
   "cell_type": "code",
   "execution_count": 47,
   "id": "b1bcda01",
   "metadata": {},
   "outputs": [],
   "source": [
    "def connect_links(data, all_odds):\n",
    "    for l in data.keys():\n",
    "        fotmob_names = data[l].keys()\n",
    "        odds_names = {v: k for k, v in zip(all_odds[l],[str(i).split('/')[-2] for i in all_odds[l]])}\n",
    "        for game in fotmob_names:\n",
    "            match = getname(game, odds_names.keys())\n",
    "            try:\n",
    "                link = odds_names[match]\n",
    "            except:\n",
    "                link = ''\n",
    "            data[l][game] = data[l][game] + [link]\n",
    "    scraper_data = collections.defaultdict(list)\n",
    "    for l_name, data in data.items():\n",
    "        for game_name, l1_t_l2 in data.items():\n",
    "            scraper_data[str(l1_t_l2[1])].append([game_name, l_name, l1_t_l2[0], l1_t_l2[2]])\n",
    "    scraper_data = dict(sorted(scraper_data.items(), key=lambda x: x[0]))\n",
    "    return scraper_data"
   ]
  },
  {
   "cell_type": "code",
   "execution_count": 137,
   "id": "0d902690",
   "metadata": {},
   "outputs": [],
   "source": [
    "def get_odds(url):\n",
    "    try:\n",
    "        driver = webdriver.Chrome()\n",
    "        if url == '':\n",
    "            return {'url':url, odds: ''}\n",
    "        driver.implicitly_wait(1)\n",
    "        url = url\n",
    "        driver.get(url)\n",
    "        odds = driver.find_element(By.XPATH, '//div[@class=\"ExpanderBestOddsWrapper_e1jc6hcf\"]').text.split('\\n')\n",
    "        odds = [float(Fraction(j)) + 1.0 if '/' in j else j for j in odds]\n",
    "        odds = dict(zip(odds[::2], odds[1::2]))\n",
    "        odds = {'url':url, 'odds': odds}\n",
    "    except:\n",
    "        odds = {'url':url, 'odd': ''}\n",
    "    driver.quit()\n",
    "    return odds"
   ]
  },
  {
   "cell_type": "code",
   "execution_count": 134,
   "id": "66ac14bb",
   "metadata": {},
   "outputs": [],
   "source": [
    "def stats_odds(stats_url, odds_url):\n",
    "    stats = get_stats(stats_url)\n",
    "    time.sleep(30)\n",
    "    odds = get_odds(odds_url)\n",
    "    row = {**stats, **odds}\n",
    "    result = print_advice(row)\n",
    "    return result"
   ]
  },
  {
   "cell_type": "code",
   "execution_count": 135,
   "id": "6b60ff27",
   "metadata": {},
   "outputs": [],
   "source": [
    "def get_odds(url):\n",
    "    try:\n",
    "        driver = webdriver.Chrome()\n",
    "        if url == '':\n",
    "            return {'url':url, odds: ''}\n",
    "        driver.implicitly_wait(1)\n",
    "        url = url\n",
    "        driver.get(url)\n",
    "        odds = driver.find_element(By.XPATH, '//div[@class=\"ExpanderBestOddsWrapper_e1jc6hcf\"]').text.split('\\n')\n",
    "        odds = [float(Fraction(j)) + 1.0 if '/' in j else j for j in odds]\n",
    "        odds = dict(zip(odds[::2], odds[1::2]))\n",
    "        odds = {'url':url, 'odds': odds}\n",
    "    except:\n",
    "        odds = {'url':url, 'odd': ''}\n",
    "    driver.quit()\n",
    "    return odds"
   ]
  }
 ],
 "metadata": {
  "kernelspec": {
   "display_name": "Python 3 (ipykernel)",
   "language": "python",
   "name": "python3"
  },
  "language_info": {
   "codemirror_mode": {
    "name": "ipython",
    "version": 3
   },
   "file_extension": ".py",
   "mimetype": "text/x-python",
   "name": "python",
   "nbconvert_exporter": "python",
   "pygments_lexer": "ipython3",
   "version": "3.7.13"
  }
 },
 "nbformat": 4,
 "nbformat_minor": 5
}
