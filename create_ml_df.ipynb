{
 "cells": [
  {
   "cell_type": "code",
   "execution_count": 57,
   "id": "4ff05769",
   "metadata": {},
   "outputs": [],
   "source": [
    "import os\n",
    "import pandas as pd\n",
    "import glob\n",
    "import pickle\n",
    "from selenium import webdriver\n",
    "from selenium.webdriver.common.by import By\n",
    "import concurrent.futures \n",
    "from pycaret.classification import *\n",
    "from sklearn.metrics import accuracy_score\n",
    "import requests\n",
    "from bs4 import BeautifulSoup\n",
    "import time\n",
    "import random\n",
    "from fuzzywuzzy import fuzz, process\n",
    "from os import walk\n",
    "from datetime import datetime"
   ]
  },
  {
   "cell_type": "code",
   "execution_count": 4,
   "id": "e2d7391b",
   "metadata": {},
   "outputs": [],
   "source": [
    "filenames = next(walk('C:/Users\\idotz/OneDrive - Northeastern University/Python/Soccer Analysis'), (None, None, []))[2]\n",
    "filenames = [f for f in filenames if '2022' in f and '_data' in f]"
   ]
  },
  {
   "cell_type": "code",
   "execution_count": 5,
   "id": "8a7c050e",
   "metadata": {},
   "outputs": [
    {
     "data": {
      "text/plain": [
       "['20220826_data.pkl',\n",
       " '20220828_data.pkl',\n",
       " '20220829_data.pkl',\n",
       " '20220830_data.pkl',\n",
       " '20220831_data.pkl',\n",
       " '20220901_data.pkl',\n",
       " '20220902_data.pkl',\n",
       " '20220903_data.pkl',\n",
       " '20220904_data.pkl',\n",
       " '20220905_data.pkl',\n",
       " '20220906_data.pkl',\n",
       " '20220907_data.pkl',\n",
       " '20220908_data.pkl']"
      ]
     },
     "execution_count": 5,
     "metadata": {},
     "output_type": "execute_result"
    }
   ],
   "source": [
    "filenames"
   ]
  },
  {
   "cell_type": "code",
   "execution_count": 6,
   "id": "b2521994",
   "metadata": {},
   "outputs": [],
   "source": [
    "all_data = []\n",
    "for f in filenames:\n",
    "    open_file = open(f, \"rb\")\n",
    "    d = pickle.load(open_file)\n",
    "    all_data.append(d)\n",
    "    open_file.close()\n",
    "    \n",
    "all_data = [i for j in all_data for i in j]"
   ]
  },
  {
   "cell_type": "code",
   "execution_count": 7,
   "id": "aa0d6412",
   "metadata": {},
   "outputs": [],
   "source": [
    "f = []\n",
    "for dic in all_data:\n",
    "    d = {}\n",
    "    for k, v in dic.items():\n",
    "        try:\n",
    "            d[k] = float(v[0]) - float(v[1])\n",
    "        except:\n",
    "            d[k] = v\n",
    "    f.append(d)\n"
   ]
  },
  {
   "cell_type": "code",
   "execution_count": 62,
   "id": "83f8fafa",
   "metadata": {},
   "outputs": [],
   "source": [
    "df = pd.DataFrame(f)\n",
    "df = df[df['half_time'] == 'Half-Time']\n",
    "df = df[(df['odds'] != '') & (df['odds'] != {})]\n",
    "df = df.reset_index(drop = True)\n",
    "df2 = pd.json_normalize(df['bet'])\n",
    "df = pd.concat([df, df2], axis = 1)\n",
    "df['o_names'] = df['odds_url'].apply(lambda x: ['draw'] + x.split('/')[-2].split('-v-'))\n",
    "r = []\n",
    "for i in df[['odds','o_names']].to_numpy():\n",
    "    oo = [getname(name, list(i[0].keys())) for name in i[1]]\n",
    "    oo = [i[0][key] for key in oo]\n",
    "    r.append(oo)\n",
    "df['oo'] = r\n",
    "split_df = pd.DataFrame(df['oo'].tolist(), columns=['0', '1', '2'])\n",
    "df = pd.concat([df, split_df], axis=1)\n",
    "df['odds_predict'] = df['oo'].apply(lambda x: np.argmin(x))\n",
    "df = df.drop(['match_name', 'half_time','url','odds_url','odds','o_names','oo','predicted_probs',\n",
    "             'bet','draw','home','away','full_odds','winner'], axis = 1)"
   ]
  },
  {
   "cell_type": "code",
   "execution_count": 63,
   "id": "2845639b",
   "metadata": {},
   "outputs": [],
   "source": [
    "df['final_score'] = scores"
   ]
  },
  {
   "cell_type": "code",
   "execution_count": 15,
   "id": "47b7bdaf",
   "metadata": {},
   "outputs": [],
   "source": [
    "def getname(name, l):\n",
    "    if len(l) == 0:\n",
    "        return ''\n",
    "    highest = process.extractOne(name,l)\n",
    "    return highest[0]"
   ]
  },
  {
   "cell_type": "code",
   "execution_count": 14,
   "id": "ae2ce485",
   "metadata": {},
   "outputs": [],
   "source": [
    "def get_winner(url):\n",
    "    page = requests.get(url)\n",
    "    time.sleep(random.randint(0, 4))\n",
    "    soup = BeautifulSoup(page.content, 'html.parser')\n",
    "    score = soup.find_all(\"span\", {\"class\": \"css-bw7eig-topRow\"})[0].text.split(' - ')\n",
    "    score = int(score[0]) - int(score[1])\n",
    "    score = winner(score)\n",
    "    return score"
   ]
  },
  {
   "cell_type": "code",
   "execution_count": 20,
   "id": "ba16bb13",
   "metadata": {
    "scrolled": true
   },
   "outputs": [
    {
     "name": "stdout",
     "output_type": "stream",
     "text": [
      "['https://www.fotmob.com/match/3888550/matchfacts/puebla-vs-fc-juarez', 'https://www.fotmob.com/match/3888551/matchfacts/mazatlan-fc-vs-cf-america', 'https://www.fotmob.com/match/3900373/matchfacts/fc-utrecht-vs-ajax', 'https://www.fotmob.com/match/3904422/matchfacts/nantes-vs-toulouse']\n",
      "['https://www.fotmob.com/match/3902828/matchfacts/dundee-united-vs-celtic', 'https://www.fotmob.com/match/3916965/matchfacts/gent-vs-royal-antwerp', 'https://www.fotmob.com/match/3887414/matchfacts/randers-fc-vs-aalborg-bk', 'https://www.fotmob.com/match/3887416/matchfacts/viborg-vs-lyngby']\n",
      "['https://www.fotmob.com/match/3905446/matchfacts/lugano-vs-st.-gallen', 'https://www.fotmob.com/match/3900374/matchfacts/excelsior-vs-psv-eindhoven', 'https://www.fotmob.com/match/3900375/matchfacts/fc-volendam-vs-fc-twente', 'https://www.fotmob.com/match/3900963/matchfacts/aston-villa-vs-west-ham-united']\n",
      "['https://www.fotmob.com/match/3900971/matchfacts/wolverhampton-wanderers-vs-newcastle-united', 'https://www.fotmob.com/match/3904421/matchfacts/lorient-vs-clermont-foot', 'https://www.fotmob.com/match/3904423/matchfacts/nice-vs-marseille', 'https://www.fotmob.com/match/3904428/matchfacts/troyes-vs-angers']\n",
      "['https://www.fotmob.com/match/3903574/matchfacts/1.-fc-k%C3%B6ln-vs-vfb-stuttgart', 'https://www.fotmob.com/match/3916966/matchfacts/kortrijk-vs-standard-liege', 'https://www.fotmob.com/match/3887413/matchfacts/nordsj%C3%A6lland-vs-fc-k%C3%B8benhavn', 'https://www.fotmob.com/match/3937392/matchfacts/famalicao-vs-santa-clara']\n",
      "['https://www.fotmob.com/match/3905444/matchfacts/fc-z%C3%BCrich-vs-basel', 'https://www.fotmob.com/match/3905445/matchfacts/winterthur-vs-young-boys', 'https://www.fotmob.com/match/3900376/matchfacts/cambuur-vs-az-alkmaar', 'https://www.fotmob.com/match/3917297/matchfacts/rapid-wien-vs-sturm-graz']\n",
      "['https://www.fotmob.com/match/3917296/matchfacts/sk-austria-klagenfurt-vs-austria-wien', 'https://www.fotmob.com/match/3917295/matchfacts/wsg-tirol-vs-wolfsberger-ac', 'https://www.fotmob.com/match/3904427/matchfacts/reims-vs-lyon', 'https://www.fotmob.com/match/3900969/matchfacts/nottingham-forest-vs-tottenham-hotspur']\n",
      "['https://www.fotmob.com/match/3917951/matchfacts/getafe-vs-villarreal', 'https://www.fotmob.com/match/3903579/matchfacts/werder-bremen-vs-eintracht-frankfurt', 'https://www.fotmob.com/match/3887415/matchfacts/silkeborg-vs-odense', 'https://www.fotmob.com/match/3919101/matchfacts/hellas-verona-vs-atalanta']\n",
      "['https://www.fotmob.com/match/3919107/matchfacts/salernitana-vs-sampdoria', 'https://www.fotmob.com/match/3916967/matchfacts/union-st.gilloise-vs-anderlecht', 'https://www.fotmob.com/match/3888555/matchfacts/toluca-vs-pachuca', 'https://www.fotmob.com/match/3937391/matchfacts/arouca-vs-braga']\n",
      "['https://www.fotmob.com/match/3917948/matchfacts/barcelona-vs-real-valladolid', 'https://www.fotmob.com/match/3919100/matchfacts/fiorentina-vs-napoli', 'https://www.fotmob.com/match/3919104/matchfacts/lecce-vs-empoli', 'https://www.fotmob.com/match/3904424/matchfacts/paris-saint-germain-vs-monaco']\n",
      "['https://www.fotmob.com/match/3916968/matchfacts/westerlo-vs-eupen', 'https://www.fotmob.com/match/3917952/matchfacts/espanyol-vs-real-madrid', 'https://www.fotmob.com/match/3888557/matchfacts/leon-vs-atlas', 'https://www.fotmob.com/match/3888556/matchfacts/santos-laguna-vs-atletico-de-san-luis']\n",
      "['https://www.fotmob.com/match/3887411/matchfacts/br%C3%B8ndby-if-vs-midtjylland', 'https://www.fotmob.com/match/3917954/matchfacts/cadiz-vs-athletic-club', 'https://www.fotmob.com/match/3937388/matchfacts/vitoria-de-guimaraes-vs-casa-pia', 'https://www.fotmob.com/match/3917955/matchfacts/valencia-vs-atletico-madrid']\n",
      "['https://www.fotmob.com/match/3937386/matchfacts/vizela-vs-gil-vicente', 'https://www.fotmob.com/match/3919117/matchfacts/sassuolo-vs-milan', 'https://www.fotmob.com/match/3900978/matchfacts/crystal-palace-vs-brentford', 'https://www.fotmob.com/match/3900974/matchfacts/fulham-vs-brighton-&-hove-albion']\n",
      "['https://www.fotmob.com/match/3900979/matchfacts/southampton-vs-chelsea', 'https://www.fotmob.com/match/3919112/matchfacts/inter-vs-cremonese', 'https://www.fotmob.com/match/3919115/matchfacts/roma-vs-monza', 'https://www.fotmob.com/match/3915356/matchfacts/birmingham-city-vs-norwich-city']\n",
      "['https://www.fotmob.com/match/3915357/matchfacts/burnley-vs-millwall', 'https://www.fotmob.com/match/3915484/matchfacts/cardiff-city-vs-luton-town', 'https://www.fotmob.com/match/3915358/matchfacts/queens-park-rangers-vs-hull-city', 'https://www.fotmob.com/match/3915349/matchfacts/sheffield-united-vs-reading']\n",
      "['https://www.fotmob.com/match/3915360/matchfacts/wigan-athletic-vs-west-bromwich-albion', 'https://www.fotmob.com/match/3900975/matchfacts/leeds-united-vs-everton', 'https://www.fotmob.com/match/3915359/matchfacts/watford-vs-middlesbrough', 'https://www.fotmob.com/match/3937367/matchfacts/benfica-vs-pacos-de-ferreira']\n",
      "['https://www.fotmob.com/match/3919111/matchfacts/empoli-vs-hellas-verona', 'https://www.fotmob.com/match/3919116/matchfacts/sampdoria-vs-lazio', 'https://www.fotmob.com/match/3919118/matchfacts/udinese-vs-fiorentina', 'https://www.fotmob.com/match/3900361/matchfacts/psv-eindhoven-vs-fc-volendam']\n",
      "['https://www.fotmob.com/match/3904430/matchfacts/angers-vs-reims', 'https://www.fotmob.com/match/3904433/matchfacts/lyon-vs-auxerre', 'https://www.fotmob.com/match/3904429/matchfacts/monaco-vs-troyes', 'https://www.fotmob.com/match/3904432/matchfacts/montpellier-vs-ac-ajaccio']\n",
      "['https://www.fotmob.com/match/3904436/matchfacts/strasbourg-vs-nantes', 'https://www.fotmob.com/match/3900973/matchfacts/afc-bournemouth-vs-wolverhampton-wanderers', 'https://www.fotmob.com/match/3900972/matchfacts/arsenal-vs-aston-villa', 'https://www.fotmob.com/match/3900981/matchfacts/manchester-city-vs-nottingham-forest']\n",
      "['https://www.fotmob.com/match/3916992/matchfacts/royal-antwerp-vs-union-st.gilloise', 'https://www.fotmob.com/match/3900977/matchfacts/west-ham-united-vs-tottenham-hotspur', 'https://www.fotmob.com/match/3919113/matchfacts/juventus-vs-spezia', 'https://www.fotmob.com/match/3919114/matchfacts/napoli-vs-lecce']\n",
      "['https://www.fotmob.com/match/3915362/matchfacts/bristol-city-vs-huddersfield-town', 'https://www.fotmob.com/match/3915363/matchfacts/coventry-city-vs-preston-north-end', 'https://www.fotmob.com/match/3915483/matchfacts/stoke-city-vs-swansea-city', 'https://www.fotmob.com/match/3915348/matchfacts/sunderland-vs-rotherham-united']\n",
      "['https://www.fotmob.com/match/3900980/matchfacts/liverpool-vs-newcastle-united', 'https://www.fotmob.com/match/3904435/matchfacts/lens-vs-lorient', 'https://www.fotmob.com/match/3904431/matchfacts/lille-vs-nice', 'https://www.fotmob.com/match/3904434/matchfacts/marseille-vs-clermont-foot']\n",
      "['https://www.fotmob.com/match/3904437/matchfacts/rennes-vs-brest', 'https://www.fotmob.com/match/3904438/matchfacts/toulouse-vs-paris-saint-germain', 'https://www.fotmob.com/match/3915361/matchfacts/blackpool-vs-blackburn-rovers', 'https://www.fotmob.com/match/3900367/matchfacts/fc-twente-vs-excelsior']\n",
      "['https://www.fotmob.com/match/3787636/matchfacts/nashville-sc-vs-colorado-rapids', 'https://www.fotmob.com/match/3900365/matchfacts/az-alkmaar-vs-nec-nijmegen', 'https://www.fotmob.com/match/3916979/matchfacts/anderlecht-vs-gent', 'https://www.fotmob.com/match/3919109/matchfacts/atalanta-vs-torino']\n",
      "['https://www.fotmob.com/match/3919110/matchfacts/bologna-vs-salernitana', 'https://www.fotmob.com/match/3900976/matchfacts/leicester-city-vs-manchester-united', 'https://www.fotmob.com/match/3888559/matchfacts/atletico-de-san-luis-vs-tijuana', 'https://www.fotmob.com/match/3888560/matchfacts/queretaro-vs-puebla']\n",
      "['https://www.fotmob.com/match/3887480/matchfacts/fc-k%C3%B8benhavn-vs-silkeborg', 'https://www.fotmob.com/match/3900377/matchfacts/fortuna-sittard-vs-fc-utrecht', 'https://www.fotmob.com/match/3937426/matchfacts/benfica-vs-vizela', 'https://www.fotmob.com/match/3903580/matchfacts/borussia-dortmund-vs-tsg-hoffenheim']\n",
      "['https://www.fotmob.com/match/3916969/matchfacts/club-brugge-vs-cercle-brugge', 'https://www.fotmob.com/match/3917965/matchfacts/celta-vigo-vs-cadiz', 'https://www.fotmob.com/match/3915341/matchfacts/west-bromwich-albion-vs-burnley', 'https://www.fotmob.com/match/3937439/matchfacts/estoril-vs-sporting-cp']\n"
     ]
    },
    {
     "name": "stdout",
     "output_type": "stream",
     "text": [
      "['https://www.fotmob.com/match/3888623/matchfacts/necaxa-vs-leon', 'https://www.fotmob.com/match/3900986/matchfacts/everton-vs-liverpool', 'https://www.fotmob.com/match/3902849/matchfacts/celtic-vs-rangers', 'https://www.fotmob.com/match/3917967/matchfacts/mallorca-vs-girona']\n",
      "['https://www.fotmob.com/match/3919120/matchfacts/fiorentina-vs-juventus', 'https://www.fotmob.com/match/3903581/matchfacts/bayer-leverkusen-vs-sc-freiburg', 'https://www.fotmob.com/match/3903586/matchfacts/vfl-bochum-vs-werder-bremen', 'https://www.fotmob.com/match/3903582/matchfacts/union-berlin-vs-bayern-m%C3%BCnchen']\n",
      "['https://www.fotmob.com/match/3903585/matchfacts/wolfsburg-vs-1.-fc-k%C3%B6ln', 'https://www.fotmob.com/match/3900983/matchfacts/brentford-vs-leeds-united', 'https://www.fotmob.com/match/3900985/matchfacts/chelsea-vs-west-ham-united', 'https://www.fotmob.com/match/3900988/matchfacts/newcastle-united-vs-crystal-palace']\n",
      "['https://www.fotmob.com/match/3900990/matchfacts/tottenham-hotspur-vs-fulham', 'https://www.fotmob.com/match/3900991/matchfacts/wolverhampton-wanderers-vs-southampton', 'https://www.fotmob.com/match/3915347/matchfacts/blackburn-rovers-vs-bristol-city', 'https://www.fotmob.com/match/3915335/matchfacts/luton-town-vs-wigan-athletic']\n",
      "['https://www.fotmob.com/match/3915482/matchfacts/millwall-vs-cardiff-city', 'https://www.fotmob.com/match/3915337/matchfacts/norwich-city-vs-coventry-city', 'https://www.fotmob.com/match/3915338/matchfacts/preston-north-end-vs-birmingham-city', 'https://www.fotmob.com/match/3915340/matchfacts/rotherham-united-vs-watford']\n",
      "['https://www.fotmob.com/match/3915481/matchfacts/swansea-city-vs-queens-park-rangers', 'https://www.fotmob.com/match/3916972/matchfacts/genk-vs-st.truiden', 'https://www.fotmob.com/match/3902850/matchfacts/hibernian-vs-kilmarnock', 'https://www.fotmob.com/match/3902851/matchfacts/livingston-vs-hearts']\n",
      "['https://www.fotmob.com/match/3902852/matchfacts/motherwell-vs-dundee-united', 'https://www.fotmob.com/match/3902853/matchfacts/ross-county-vs-aberdeen', 'https://www.fotmob.com/match/3902854/matchfacts/st.-johnstone-vs-st.-mirren', 'https://www.fotmob.com/match/3917962/matchfacts/real-madrid-vs-real-betis']\n",
      "['https://www.fotmob.com/match/3900378/matchfacts/ajax-vs-cambuur', 'https://www.fotmob.com/match/3937424/matchfacts/braga-vs-vitoria-de-guimaraes', 'https://www.fotmob.com/match/3904491/matchfacts/auxerre-vs-marseille', 'https://www.fotmob.com/match/3917285/matchfacts/austria-wien-vs-austria-lustenau']\n",
      "['https://www.fotmob.com/match/3917286/matchfacts/salzburg-vs-wsg-tirol', 'https://www.fotmob.com/match/3917274/matchfacts/sturm-graz-vs-hartberg', 'https://www.fotmob.com/match/3919123/matchfacts/milan-vs-inter', 'https://www.fotmob.com/match/3905443/matchfacts/sion-vs-basel']\n",
      "['https://www.fotmob.com/match/3916977/matchfacts/eupen-vs-kortrijk', 'https://www.fotmob.com/match/3916975/matchfacts/kv-mechelen-vs-rfc-seraing', 'https://www.fotmob.com/match/3900982/matchfacts/aston-villa-vs-manchester-city', 'https://www.fotmob.com/match/3917960/matchfacts/real-sociedad-vs-atletico-madrid']\n",
      "['https://www.fotmob.com/match/3903584/matchfacts/eintracht-frankfurt-vs-rb-leipzig', 'https://www.fotmob.com/match/3900379/matchfacts/fc-twente-vs-psv-eindhoven', 'https://www.fotmob.com/match/3904496/matchfacts/lyon-vs-angers', 'https://www.fotmob.com/match/3916971/matchfacts/standard-liege-vs-oostende']\n",
      "['https://www.fotmob.com/match/3904493/matchfacts/nantes-vs-paris-saint-germain', 'https://www.fotmob.com/match/3900381/matchfacts/go-ahead-eagles-vs-feyenoord', 'https://www.fotmob.com/match/3937425/matchfacts/gil-vicente-vs-fc-porto', 'https://www.fotmob.com/match/3888625/matchfacts/pachuca-vs-santos-laguna']\n",
      "['https://www.fotmob.com/match/3900382/matchfacts/rkc-waalwijk-vs-excelsior', 'https://www.fotmob.com/match/3919119/matchfacts/cremonese-vs-sassuolo', 'https://www.fotmob.com/match/3904494/matchfacts/montpellier-vs-lille', 'https://www.fotmob.com/match/3915339/matchfacts/reading-vs-stoke-city']\n",
      "['https://www.fotmob.com/match/3916970/matchfacts/anderlecht-vs-oh-leuven', 'https://www.fotmob.com/match/3917959/matchfacts/osasuna-vs-rayo-vallecano', 'https://www.fotmob.com/match/3887482/matchfacts/lyngby-vs-randers-fc', 'https://www.fotmob.com/match/3887481/matchfacts/odense-vs-viborg']\n",
      "['https://www.fotmob.com/match/3905441/matchfacts/luzern-vs-servette', 'https://www.fotmob.com/match/3917275/matchfacts/altach-vs-rapid-wien', 'https://www.fotmob.com/match/3917276/matchfacts/wolfsberger-ac-vs-sk-austria-klagenfurt', 'https://www.fotmob.com/match/3900383/matchfacts/fc-emmen-vs-az-alkmaar']\n",
      "['https://www.fotmob.com/match/3900384/matchfacts/sc-heerenveen-vs-nec-nijmegen', 'https://www.fotmob.com/match/3900984/matchfacts/brighton-&-hove-albion-vs-leicester-city', 'https://www.fotmob.com/match/3919126/matchfacts/spezia-vs-bologna', 'https://www.fotmob.com/match/3904490/matchfacts/ac-ajaccio-vs-lorient']\n",
      "['https://www.fotmob.com/match/3904497/matchfacts/brest-vs-strasbourg', 'https://www.fotmob.com/match/3904492/matchfacts/clermont-foot-vs-toulouse', 'https://www.fotmob.com/match/3904498/matchfacts/reims-vs-lens', 'https://www.fotmob.com/match/3903587/matchfacts/fc-augsburg-vs-hertha-bsc']\n",
      "['https://www.fotmob.com/match/3915333/matchfacts/huddersfield-town-vs-blackpool', 'https://www.fotmob.com/match/3915334/matchfacts/hull-city-vs-sheffield-united', 'https://www.fotmob.com/match/3916973/matchfacts/royal-antwerp-vs-westerlo', 'https://www.fotmob.com/match/3887483/matchfacts/horsens-vs-br%C3%B8ndby-if']\n",
      "['https://www.fotmob.com/match/3917958/matchfacts/athletic-club-vs-espanyol', 'https://www.fotmob.com/match/3937420/matchfacts/casa-pia-vs-arouca', 'https://www.fotmob.com/match/3905428/matchfacts/grasshopper-vs-winterthur', 'https://www.fotmob.com/match/3905427/matchfacts/st.-gallen-vs-young-boys']\n",
      "['https://www.fotmob.com/match/3917380/matchfacts/lask-vs-ried', 'https://www.fotmob.com/match/3900987/matchfacts/manchester-united-vs-arsenal', 'https://www.fotmob.com/match/3903583/matchfacts/borussia-mgladbach-vs-mainz-05', 'https://www.fotmob.com/match/3919121/matchfacts/hellas-verona-vs-sampdoria']\n",
      "['https://www.fotmob.com/match/3887484/matchfacts/midtjylland-vs-aalborg-bk', 'https://www.fotmob.com/match/3917963/matchfacts/villarreal-vs-elche', 'https://www.fotmob.com/match/3916976/matchfacts/sporting-charleroi-vs-gent', 'https://www.fotmob.com/match/3919128/matchfacts/udinese-vs-roma']\n",
      "['https://www.fotmob.com/match/3904495/matchfacts/nice-vs-monaco', 'https://www.fotmob.com/match/3917964/matchfacts/valencia-vs-getafe', 'https://www.fotmob.com/match/3916974/matchfacts/zulte-waregem-vs-union-st.gilloise', 'https://www.fotmob.com/match/3937423/matchfacts/portimonense-vs-famalicao']\n",
      "['https://www.fotmob.com/match/3919124/matchfacts/monza-vs-atalanta', 'https://www.fotmob.com/match/3919125/matchfacts/salernitana-vs-empoli', 'https://www.fotmob.com/match/3937427/matchfacts/boavista-vs-pacos-de-ferreira', 'https://www.fotmob.com/match/3919127/matchfacts/torino-vs-lecce']\n",
      "['https://www.fotmob.com/match/3917966/matchfacts/real-valladolid-vs-almeria', 'https://www.fotmob.com/match/3915336/matchfacts/middlesbrough-vs-sunderland', 'https://www.fotmob.com/match/3937421/matchfacts/chaves-vs-rio-ave', 'https://www.fotmob.com/match/4010132/matchfacts/dinamo-zagreb-vs-chelsea']\n",
      "['https://www.fotmob.com/match/4010156/matchfacts/borussia-dortmund-vs-fc-k%C3%B8benhavn', 'https://www.fotmob.com/match/4010133/matchfacts/salzburg-vs-milan', 'https://www.fotmob.com/match/4010150/matchfacts/celtic-vs-real-madrid', 'https://www.fotmob.com/match/4010151/matchfacts/rb-leipzig-vs-shakhtar-donetsk']\n",
      "['https://www.fotmob.com/match/4010157/matchfacts/sevilla-vs-manchester-city', 'https://www.fotmob.com/match/4010176/matchfacts/benfica-vs-maccabi-haifa', 'https://www.fotmob.com/match/4010175/matchfacts/paris-saint-germain-vs-juventus', 'https://www.fotmob.com/match/3888631/matchfacts/santos-laguna-vs-necaxa']\n",
      "['https://www.fotmob.com/match/3888632/matchfacts/monterrey-vs-cruz-azul', 'https://www.fotmob.com/match/4010119/matchfacts/napoli-vs-liverpool', 'https://www.fotmob.com/match/4010254/matchfacts/fc-z%C3%BCrich-vs-arsenal', 'https://www.fotmob.com/match/4010255/matchfacts/psv-eindhoven-vs-bod%c3%b8%2fglimt']\n"
     ]
    },
    {
     "name": "stdout",
     "output_type": "stream",
     "text": [
      "['https://www.fotmob.com/match/4010293/matchfacts/aek-larnaca-vs-rennes', 'https://www.fotmob.com/match/4010294/matchfacts/fenerbah%C3%A7e-vs-dynamo-kyiv', 'https://www.fotmob.com/match/4010532/matchfacts/hjk-vs-real-betis', 'https://www.fotmob.com/match/4010533/matchfacts/ludogorets-razgrad-vs-roma']\n",
      "['https://www.fotmob.com/match/4010661/matchfacts/malm%C3%B6-ff-vs-braga', 'https://www.fotmob.com/match/4010662/matchfacts/union-berlin-vs-union-st.gilloise', 'https://www.fotmob.com/match/4010194/matchfacts/fiorentina-vs-rfs', 'https://www.fotmob.com/match/4010193/matchfacts/hearts-vs-istanbul-ba%C5%9Fak%C5%9Fehir']\n",
      "['https://www.fotmob.com/match/4010217/matchfacts/anderlecht-vs-silkeborg', 'https://www.fotmob.com/match/4010243/matchfacts/austria-wien-vs-hapoel-beer-sheva', 'https://www.fotmob.com/match/4010242/matchfacts/villarreal-vs-lech-poznan', 'https://www.fotmob.com/match/4010268/matchfacts/slovacko-vs-partizan-beograd']\n",
      "['https://www.fotmob.com/match/4010580/matchfacts/ballkani-vs-cfr-cluj', 'https://www.fotmob.com/match/4010305/matchfacts/manchester-united-vs-real-sociedad', 'https://www.fotmob.com/match/4010306/matchfacts/omonia-nicosia-vs-fc-sheriff', 'https://www.fotmob.com/match/4010375/matchfacts/lazio-vs-feyenoord']\n",
      "['https://www.fotmob.com/match/4010374/matchfacts/sturm-graz-vs-midtjylland', 'https://www.fotmob.com/match/4010544/matchfacts/sc-freiburg-vs-qarabag-fk', 'https://www.fotmob.com/match/4010545/matchfacts/nantes-vs-olympiacos', 'https://www.fotmob.com/match/4010650/matchfacts/ferencvaros-vs-trabzonspor']\n",
      "['https://www.fotmob.com/match/4010649/matchfacts/fk-crvena-zvezda-vs-monaco', 'https://www.fotmob.com/match/4010218/matchfacts/west-ham-united-vs-fc-fcsb', 'https://www.fotmob.com/match/4010319/matchfacts/fc-vaduz-vs-apollon-limassol', 'https://www.fotmob.com/match/4010320/matchfacts/sc-dnipro-1-vs-az-alkmaar']\n",
      "['https://www.fotmob.com/match/4010386/matchfacts/molde-vs-gent', 'https://www.fotmob.com/match/4010387/matchfacts/shamrock-rovers-vs-djurg%C3%A5rden', 'https://www.fotmob.com/match/4010581/matchfacts/sivasspor-vs-slavia-prague', 'https://www.fotmob.com/match/4010674/matchfacts/basel-vs-pyunik']\n",
      "['https://www.fotmob.com/match/4010675/matchfacts/slovan-bratislava-vs-zalgiris-vilnius']\n"
     ]
    }
   ],
   "source": [
    "scores = []\n",
    "for i in range(0, len(df['url']), 4):\n",
    "    x = list(df['url'][i:i + 4])\n",
    "    print(x)\n",
    "    with concurrent.futures.ThreadPoolExecutor() as executor:\n",
    "        r = executor.map(get_winner, x)\n",
    "    for result in r:\n",
    "        scores.append(result)"
   ]
  },
  {
   "cell_type": "code",
   "execution_count": 13,
   "id": "8710b2cd",
   "metadata": {},
   "outputs": [],
   "source": [
    "def winner(x):\n",
    "    if x == 0:\n",
    "        return 0\n",
    "    elif x > 0:\n",
    "        return 1\n",
    "    else:\n",
    "        return 2"
   ]
  },
  {
   "cell_type": "code",
   "execution_count": 64,
   "id": "cfbf7d53",
   "metadata": {
    "scrolled": true
   },
   "outputs": [
    {
     "data": {
      "text/plain": [
       "0.6693877551020408"
      ]
     },
     "execution_count": 64,
     "metadata": {},
     "output_type": "execute_result"
    }
   ],
   "source": [
    "accuracy_score(df['final_score'], df['odds_predict'])"
   ]
  },
  {
   "cell_type": "code",
   "execution_count": 65,
   "id": "db390222",
   "metadata": {},
   "outputs": [
    {
     "name": "stdout",
     "output_type": "stream",
     "text": [
      "20220908 (245, 50)\n"
     ]
    }
   ],
   "source": [
    "today = f\"{datetime.now():%Y%m%d}\"\n",
    "print(today, df.shape)\n",
    "df.to_csv(f'data_{today}.csv')"
   ]
  }
 ],
 "metadata": {
  "kernelspec": {
   "display_name": "Python 3 (ipykernel)",
   "language": "python",
   "name": "python3"
  },
  "language_info": {
   "codemirror_mode": {
    "name": "ipython",
    "version": 3
   },
   "file_extension": ".py",
   "mimetype": "text/x-python",
   "name": "python",
   "nbconvert_exporter": "python",
   "pygments_lexer": "ipython3",
   "version": "3.7.13"
  }
 },
 "nbformat": 4,
 "nbformat_minor": 5
}
