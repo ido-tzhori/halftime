{
 "cells": [
  {
   "cell_type": "code",
   "execution_count": 124,
   "id": "96a2e85b",
   "metadata": {},
   "outputs": [
    {
     "name": "stderr",
     "output_type": "stream",
     "text": [
      "C:\\Users\\idotz\\anaconda3\\envs\\p37\\lib\\site-packages\\fuzzywuzzy\\fuzz.py:11: UserWarning: Using slow pure-python SequenceMatcher. Install python-Levenshtein to remove this warning\n",
      "  warnings.warn('Using slow pure-python SequenceMatcher. Install python-Levenshtein to remove this warning')\n"
     ]
    }
   ],
   "source": [
    "import pandas as pd\n",
    "import numpy as np\n",
    "from datetime import datetime\n",
    "import pickle\n",
    "from fuzzywuzzy import fuzz, process\n"
   ]
  },
  {
   "cell_type": "code",
   "execution_count": 131,
   "id": "009d03ad",
   "metadata": {},
   "outputs": [],
   "source": [
    "today = f\"{datetime.now():%Y%m%d}\"\n",
    "open_file = open(f'{today}_datadict.pkl', \"rb\")\n",
    "datadict = pickle.load(open_file)\n",
    "open_file.close()"
   ]
  },
  {
   "cell_type": "code",
   "execution_count": 152,
   "id": "1179106c",
   "metadata": {},
   "outputs": [],
   "source": [
    "open_file = open(f'scores.pkl', \"rb\")\n",
    "scores = pickle.load(open_file)\n",
    "open_file.close()"
   ]
  },
  {
   "cell_type": "code",
   "execution_count": 123,
   "id": "19411598",
   "metadata": {},
   "outputs": [],
   "source": [
    "def getname(name, l):\n",
    "    if len(l) == 0:\n",
    "        return ''\n",
    "    highest = process.extractOne(name,l)\n",
    "    return highest[0]"
   ]
  },
  {
   "cell_type": "code",
   "execution_count": 132,
   "id": "75fe5a30",
   "metadata": {
    "scrolled": true
   },
   "outputs": [
    {
     "name": "stderr",
     "output_type": "stream",
     "text": [
      "C:\\Users\\idotz\\anaconda3\\envs\\p37\\lib\\site-packages\\numpy\\core\\_methods.py:262: RuntimeWarning: Degrees of freedom <= 0 for slice\n",
      "  keepdims=keepdims, where=where)\n",
      "C:\\Users\\idotz\\anaconda3\\envs\\p37\\lib\\site-packages\\numpy\\core\\_methods.py:222: RuntimeWarning: invalid value encountered in true_divide\n",
      "  subok=False)\n",
      "C:\\Users\\idotz\\anaconda3\\envs\\p37\\lib\\site-packages\\numpy\\core\\_methods.py:253: RuntimeWarning: invalid value encountered in double_scalars\n",
      "  ret = ret.dtype.type(ret / rcount)\n"
     ]
    }
   ],
   "source": [
    "res = []\n",
    "for dic in datadict:\n",
    "    e_dict = {}\n",
    "    for name, tup in dic.items():\n",
    "        name = name.replace(' ','_').lower()\n",
    "        if len(tup) == 2:\n",
    "            e_dict[f'{name}_diff'] = float(tup[0]) - float(tup[1])\n",
    "            e_dict[f'{name}_sum'] = float(tup[0]) + float(tup[1])\n",
    "        else:\n",
    "            e_dict[name] = tup\n",
    "    if 'bet' in e_dict:\n",
    "        e_dict['odds_sum'] = e_dict['bet']['odds_checker_sum']\n",
    "        del e_dict['bet']\n",
    "    e_dict['median_odds'] = e_dict.pop('odds')\n",
    "    if len(e_dict['median_odds']) > 0:\n",
    "        e_dict['std_odds'] = dict(zip(list(e_dict['median_odds'].keys()),\n",
    "                                      [np.std(sorted(x)[1:-1]) for x in e_dict['full_odds']]))\n",
    "    res.append(e_dict)"
   ]
  },
  {
   "cell_type": "code",
   "execution_count": 149,
   "id": "64046430",
   "metadata": {},
   "outputs": [],
   "source": [
    "df = pd.DataFrame(res)\n",
    "df = df[df['half_time'] == 'Half-Time']\n",
    "df = df[(df['median_odds'] != '') & (df['median_odds'] != {})]\n",
    "df = df.reset_index(drop = True)\n",
    "df['o_names'] = df['odds_url'].apply(lambda x: ['draw'] + x.split('/')[-2].split('-v-'))\n",
    "std_o = []\n",
    "for i in df[['std_odds','o_names']].to_numpy():\n",
    "    oo = [getname(name, list(i[0].keys())) for name in i[1]]\n",
    "    oo = [i[0][key] for key in oo]\n",
    "    std_o.append(oo)\n",
    "r = []\n",
    "for i in df[['median_odds','o_names']].to_numpy():\n",
    "    oo = [getname(name, list(i[0].keys())) for name in i[1]]\n",
    "    oo = [i[0][key] for key in oo]\n",
    "    r.append(oo)    \n",
    "df['med_o'] = r\n",
    "df['std_o'] = std_o\n",
    "df['odds_predict'] = df['med_o'].apply(lambda x: np.argmin(x))\n",
    "ordo_df = pd.DataFrame(df['med_o'].tolist(), columns=['med_0', 'med_1', 'med_2'])\n",
    "std_o = pd.DataFrame(df['std_o'].tolist(), columns=['std_0', 'std_1', 'std_2'])\n",
    "df = pd.concat([df, std_o, ordo_df], axis=1)\n",
    "df = df.drop(['match_name', 'half_time','odds_url','o_names','med_o', 'std_o', 'std_odds',\n",
    "             'median_odds','url','full_odds'], axis = 1)"
   ]
  },
  {
   "cell_type": "code",
   "execution_count": 154,
   "id": "abba5454",
   "metadata": {},
   "outputs": [],
   "source": [
    "df['target'] = scores"
   ]
  },
  {
   "cell_type": "code",
   "execution_count": 156,
   "id": "ce006fe8",
   "metadata": {},
   "outputs": [],
   "source": [
    "df.to_csv('f_eng_df.csv')"
   ]
  }
 ],
 "metadata": {
  "kernelspec": {
   "display_name": "Python 3 (ipykernel)",
   "language": "python",
   "name": "python3"
  },
  "language_info": {
   "codemirror_mode": {
    "name": "ipython",
    "version": 3
   },
   "file_extension": ".py",
   "mimetype": "text/x-python",
   "name": "python",
   "nbconvert_exporter": "python",
   "pygments_lexer": "ipython3",
   "version": "3.7.13"
  }
 },
 "nbformat": 4,
 "nbformat_minor": 5
}
