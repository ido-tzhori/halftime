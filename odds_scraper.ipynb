{
 "cells": [
  {
   "cell_type": "code",
   "execution_count": 146,
   "id": "cfc30b6b",
   "metadata": {},
   "outputs": [],
   "source": [
    "import requests\n",
    "from bs4 import BeautifulSoup\n",
    "import scrapy\n",
    "import numpy as np\n",
    "import statistics"
   ]
  },
  {
   "cell_type": "code",
   "execution_count": 17,
   "id": "e6bfc722",
   "metadata": {},
   "outputs": [],
   "source": [
    "session = requests.Session()\n",
    "\n",
    "url = 'https://www.oddschecker.com/football/english/premier-league/southampton-v-man-utd/winner'"
   ]
  },
  {
   "cell_type": "code",
   "execution_count": 20,
   "id": "7edb4665",
   "metadata": {},
   "outputs": [],
   "source": [
    "headers = {\"User-Agent\":\"Mozilla/5.0 (Windows NT 10.0; Win64; x64) AppleWebKit/537.36 (KHTML, like Gecko) Chrome/104.0.0.0 Safari/537.36\",\n",
    "          \"Authorization\": \"token GITHUBTOKEN\"}\n"
   ]
  },
  {
   "cell_type": "code",
   "execution_count": 21,
   "id": "a25e7233",
   "metadata": {},
   "outputs": [],
   "source": [
    "response = session.get(url, headers=headers)"
   ]
  },
  {
   "cell_type": "code",
   "execution_count": 23,
   "id": "43a49d5c",
   "metadata": {},
   "outputs": [],
   "source": [
    "html_soup = BeautifulSoup(response.text, 'html.parser')"
   ]
  },
  {
   "cell_type": "code",
   "execution_count": 38,
   "id": "1415ec7a",
   "metadata": {},
   "outputs": [],
   "source": [
    "from selenium import webdriver\n",
    "from selenium.webdriver.common.by import By\n",
    "from fractions import Fraction\n"
   ]
  },
  {
   "cell_type": "code",
   "execution_count": 170,
   "id": "793eed99",
   "metadata": {},
   "outputs": [],
   "source": [
    "def get_odds(url):\n",
    "    try:\n",
    "        driver = webdriver.Chrome()\n",
    "        if url == '':\n",
    "            return {'url':url, 'odds': '', 'full_odds': ''}\n",
    "        driver.implicitly_wait(1)\n",
    "        driver.get(url)\n",
    "        html = driver.page_source\n",
    "        soup = BeautifulSoup(html, features=\"html.parser\")\n",
    "        odds_containers = soup.find_all(\"div\", {\"class\": \"oddsAreaWrapper_o17xb9rs RowLayout_refg9ta\"})\n",
    "        names = soup.find_all(\"div\", {\"class\": \"BetRowLeftBetContent_b2f00kt\"})\n",
    "        names = [n.text for n in names]\n",
    "        odds_containers = [container.find_all('button') for container in odds_containers]\n",
    "        odds = [[z.text for z in container] for container in odds_containers]\n",
    "        odds = [[float(Fraction(j.replace(' ',''))) + 1.0 for j in o][:-3] for o in odds]\n",
    "        median_odds = [statistics.median(o) for o in odds]\n",
    "        median_odds = dict(zip(names, median_odds))\n",
    "        odds = {'url':url, 'odds': median_odds, 'full_odds': odds}\n",
    "    except:\n",
    "        return {'url':url, 'odds': '', 'full_odds': ''}\n",
    "    driver.quit()\n",
    "    return odds"
   ]
  },
  {
   "cell_type": "code",
   "execution_count": 171,
   "id": "4a87dcdd",
   "metadata": {},
   "outputs": [
    {
     "data": {
      "text/plain": [
       "{'url': 'https://www.oddschecker.com/football/spain/la-liga-primera/real-betis-v-osasuna/winner',\n",
       " 'odds': {'Real Betis': 1.1538461538461537, 'Draw': 6.0, 'Osasuna': 51.0},\n",
       " 'full_odds': [[1.1428571428571428,\n",
       "   1.125,\n",
       "   1.0714285714285714,\n",
       "   1.1666666666666667,\n",
       "   1.125,\n",
       "   1.0833333333333333,\n",
       "   1.1538461538461537,\n",
       "   1.1538461538461537,\n",
       "   1.1428571428571428,\n",
       "   1.0909090909090908,\n",
       "   1.1428571428571428,\n",
       "   1.1666666666666667,\n",
       "   1.125,\n",
       "   1.1666666666666667,\n",
       "   1.1666666666666667,\n",
       "   1.1176470588235294,\n",
       "   1.1818181818181819,\n",
       "   9.0,\n",
       "   1.1538461538461537,\n",
       "   1.1333333333333333,\n",
       "   1.1538461538461537,\n",
       "   1.1538461538461537,\n",
       "   1.1538461538461537],\n",
       "  [5.5,\n",
       "   6.0,\n",
       "   7.5,\n",
       "   5.5,\n",
       "   6.0,\n",
       "   8.0,\n",
       "   6.0,\n",
       "   6.0,\n",
       "   5.8,\n",
       "   9.0,\n",
       "   5.5,\n",
       "   6.4,\n",
       "   6.5,\n",
       "   5.75,\n",
       "   6.0,\n",
       "   6.5,\n",
       "   4.75,\n",
       "   1.1666666666666667,\n",
       "   5.5,\n",
       "   6.0,\n",
       "   5.8,\n",
       "   6.0,\n",
       "   6.4],\n",
       "  [81.0,\n",
       "   41.0,\n",
       "   101.0,\n",
       "   36.0,\n",
       "   51.0,\n",
       "   151.0,\n",
       "   36.0,\n",
       "   61.0,\n",
       "   61.0,\n",
       "   51.0,\n",
       "   41.0,\n",
       "   75.0,\n",
       "   67.0,\n",
       "   43.0,\n",
       "   54.0,\n",
       "   67.0,\n",
       "   46.0,\n",
       "   5.5,\n",
       "   51.0,\n",
       "   41.0,\n",
       "   56.0,\n",
       "   36.0,\n",
       "   81.0]]}"
      ]
     },
     "execution_count": 171,
     "metadata": {},
     "output_type": "execute_result"
    }
   ],
   "source": [
    "get_odds('https://www.oddschecker.com/football/spain/la-liga-primera/real-betis-v-osasuna/winner')"
   ]
  },
  {
   "cell_type": "code",
   "execution_count": 164,
   "id": "7fb877e6",
   "metadata": {},
   "outputs": [],
   "source": [
    "driver = webdriver.Chrome()\n",
    "driver.implicitly_wait(1)\n",
    "driver.get('https://www.oddschecker.com/football/spain/la-liga-primera/real-betis-v-osasuna/winner')\n",
    "html = driver.page_source"
   ]
  },
  {
   "cell_type": "code",
   "execution_count": 165,
   "id": "afec13c7",
   "metadata": {},
   "outputs": [],
   "source": [
    "soup = BeautifulSoup(html, features=\"html.parser\")\n"
   ]
  },
  {
   "cell_type": "code",
   "execution_count": 169,
   "id": "f437dd0c",
   "metadata": {},
   "outputs": [
    {
     "data": {
      "text/plain": [
       "'Draw'"
      ]
     },
     "execution_count": 169,
     "metadata": {},
     "output_type": "execute_result"
    }
   ],
   "source": [
    "soup.find_all(\"div\", {\"class\": \"BetRowLeftBetContent_b2f00kt\"})"
   ]
  },
  {
   "cell_type": "code",
   "execution_count": 108,
   "id": "912d3b2b",
   "metadata": {},
   "outputs": [],
   "source": [
    "three = soup.find_all(\"div\", {\"class\": \"oddsAreaWrapper_o17xb9rs RowLayout_refg9ta\"})"
   ]
  },
  {
   "cell_type": "code",
   "execution_count": 119,
   "id": "6698888f",
   "metadata": {},
   "outputs": [
    {
     "data": {
      "text/plain": [
       "[<button aria-label=\"Add to betslip\" class=\"oddShortening_o1ini8o6 betTooltip_b1ufcx63 OddsCellDesktop_obvpjra OddsCellBtn_o5t2ais\" data-bk=\"B3\" style=\"--oc-background-opacity:0.4;\" type=\"button\">10/11</button>,\n",
       " <button aria-label=\"Add to betslip\" class=\"oddShortening_o1ini8o6 betTooltip_b1ufcx63 OddsCellDesktop_obvpjra OddsCellBtn_o5t2ais\" data-bk=\"SK\" style=\"--oc-background-opacity:0.4;\" type=\"button\">5/6</button>,\n",
       " <button aria-label=\"Add to betslip\" class=\"oddShortening_o1ini8o6 betTooltip_b1ufcx63 OddsCellDesktop_obvpjra OddsCellBtn_o5t2ais\" data-bk=\"PP\" style=\"--oc-background-opacity:0.4;\" type=\"button\">3/4</button>,\n",
       " <button aria-label=\"Add to betslip\" class=\"oddShortening_o1ini8o6 betTooltip_b1ufcx63 OddsCellDesktop_obvpjra OddsCellBtn_o5t2ais\" data-bk=\"WH\" type=\"button\">1/1</button>,\n",
       " <button aria-label=\"Add to betslip\" class=\"oddShortening_o1ini8o6 betTooltip_b1ufcx63 OddsCellDesktop_obvpjra OddsCellBtn_o5t2ais\" data-bk=\"EE\" style=\"--oc-background-opacity:0.4;\" type=\"button\">4/5</button>,\n",
       " <button aria-label=\"Add to betslip\" class=\"oddShortening_o1ini8o6 betTooltip_b1ufcx63 OddsCellDesktop_obvpjra OddsCellBtn_o5t2ais\" data-bk=\"FB\" style=\"--oc-background-opacity:0.4;\" type=\"button\">4/5</button>,\n",
       " <button aria-label=\"Add to betslip\" class=\"oddShortening_o1ini8o6 betTooltip_b1ufcx63 OddsCellDesktop_obvpjra OddsCellBtn_o5t2ais\" data-bk=\"VC\" style=\"--oc-background-opacity:0.4;\" type=\"button\">5/6</button>,\n",
       " <button aria-label=\"Add to betslip\" class=\"oddDrifting_o14s2hvj betTooltip_b1ufcx63 OddsCellDesktop_obvpjra OddsCellBtn_o5t2ais\" data-bk=\"CE\" style=\"--oc-background-opacity:0.4;\" type=\"button\">10/11</button>,\n",
       " <button aria-label=\"Add to betslip\" class=\"oddShortening_o1ini8o6 betTooltip_b1ufcx63 OddsCellDesktop_obvpjra OddsCellBtn_o5t2ais\" data-bk=\"UN\" style=\"--oc-background-opacity:1;\" type=\"button\">17/20</button>,\n",
       " <button aria-label=\"Add to betslip\" class=\"oddShortening_o1ini8o6 betTooltip_b1ufcx63 OddsCellDesktop_obvpjra OddsCellBtn_o5t2ais\" data-bk=\"SX\" style=\"--oc-background-opacity:0.4;\" type=\"button\">87/ 100</button>,\n",
       " <button aria-label=\"Add to betslip\" class=\"bestOddsStyles_b1n2p0rl oddDrifting_o14s2hvj betTooltip_b1ufcx63 OddsCellDesktop_obvpjra OddsCellBtn_o5t2ais\" data-bk=\"FR\" type=\"button\">11/4</button>,\n",
       " <button aria-label=\"Add to betslip\" class=\"oddShortening_o1ini8o6 betTooltip_b1ufcx63 OddsCellDesktop_obvpjra OddsCellBtn_o5t2ais\" data-bk=\"RK\" style=\"--oc-background-opacity:0.4;\" type=\"button\">19/20</button>,\n",
       " <button aria-label=\"Add to betslip\" class=\"oddShortening_o1ini8o6 betTooltip_b1ufcx63 OddsCellDesktop_obvpjra OddsCellBtn_o5t2ais\" data-bk=\"BY\" style=\"--oc-background-opacity:0.4;\" type=\"button\">5/6</button>,\n",
       " <button aria-label=\"Add to betslip\" class=\"oddShortening_o1ini8o6 betTooltip_b1ufcx63 OddsCellDesktop_obvpjra OddsCellBtn_o5t2ais\" data-bk=\"OE\" style=\"--oc-background-opacity:0.4;\" type=\"button\">9/10</button>,\n",
       " <button aria-label=\"Add to betslip\" class=\"oddShortening_o1ini8o6 betTooltip_b1ufcx63 OddsCellDesktop_obvpjra OddsCellBtn_o5t2ais\" data-bk=\"SA\" style=\"--oc-background-opacity:0.4;\" type=\"button\">19/20</button>,\n",
       " <button aria-label=\"Add to betslip\" class=\"oddShortening_o1ini8o6 betTooltip_b1ufcx63 OddsCellDesktop_obvpjra OddsCellBtn_o5t2ais\" data-bk=\"SI\" style=\"--oc-background-opacity:0.4;\" type=\"button\">9/10</button>,\n",
       " <button aria-label=\"Add to betslip\" class=\"oddShortening_o1ini8o6 betTooltip_b1ufcx63 OddsCellDesktop_obvpjra OddsCellBtn_o5t2ais\" data-bk=\"DP\" style=\"--oc-background-opacity:0.4;\" type=\"button\">17/20</button>,\n",
       " <button aria-label=\"Add to betslip\" class=\"oddShortening_o1ini8o6 betTooltip_b1ufcx63 OddsCellDesktop_obvpjra OddsCellBtn_o5t2ais\" data-bk=\"LS\" style=\"--oc-background-opacity:0.4;\" type=\"button\">7/10</button>,\n",
       " <button aria-label=\"Add to betslip\" class=\"oddShortening_o1ini8o6 betTooltip_b1ufcx63 OddsCellDesktop_obvpjra OddsCellBtn_o5t2ais\" data-bk=\"QN\" style=\"--oc-background-opacity:0.4;\" type=\"button\">17/20</button>,\n",
       " <button aria-label=\"Add to betslip\" class=\"oddShortening_o1ini8o6 betTooltip_b1ufcx63 OddsCellDesktop_obvpjra OddsCellBtn_o5t2ais\" data-bk=\"WA\" style=\"--oc-background-opacity:0.4;\" type=\"button\">4/5</button>,\n",
       " <button aria-label=\"Add to betslip\" class=\"oddShortening_o1ini8o6 betTooltip_b1ufcx63 OddsCellDesktop_obvpjra OddsCellBtn_o5t2ais\" data-bk=\"LD\" style=\"--oc-background-opacity:0.4;\" type=\"button\">10/11</button>,\n",
       " <button aria-label=\"Add to betslip\" class=\"oddShortening_o1ini8o6 betTooltip_b1ufcx63 OddsCellDesktop_obvpjra OddsCellBtn_o5t2ais\" data-bk=\"RM\" style=\"--oc-background-opacity:0.4;\" type=\"button\">5/6</button>,\n",
       " <button aria-label=\"Add to betslip\" class=\"oddShortening_o1ini8o6 betTooltip_b1ufcx63 OddsCellDesktop_obvpjra OddsCellBtn_o5t2ais\" data-bk=\"BF\" style=\"--oc-background-opacity:0.4;\" type=\"button\">1/1</button>,\n",
       " <button aria-label=\"Add to betslip\" class=\"oddShortening_o1ini8o6 betTooltip_b1ufcx63 OddsCellDesktop_obvpjra OddsCellBtn_o5t2ais\" data-bk=\"MK\" style=\"--oc-background-opacity:0.4;\" type=\"button\">10/11</button>,\n",
       " <button aria-label=\"Add to betslip\" class=\"oddShortening_o1ini8o6 betTooltip_b1ufcx63 OddsCellDesktop_obvpjra OddsCellBtn_o5t2ais\" data-bk=\"MA\" style=\"--oc-background-opacity:0.4;\" type=\"button\">10/11</button>]"
      ]
     },
     "execution_count": 119,
     "metadata": {},
     "output_type": "execute_result"
    }
   ],
   "source": [
    "three[0].find_all('button')"
   ]
  },
  {
   "cell_type": "code",
   "execution_count": 40,
   "id": "f2d13835",
   "metadata": {},
   "outputs": [
    {
     "data": {
      "text/plain": [
       "{'url': 'https://www.oddschecker.com/football/english/premier-league/southampton-v-man-utd/winner',\n",
       " 'odds': {'Southampton': 4.4, 'Draw': 4.2, 'Man Utd': 1.87}}"
      ]
     },
     "execution_count": 40,
     "metadata": {},
     "output_type": "execute_result"
    }
   ],
   "source": [
    "get_odds('https://www.oddschecker.com/football/english/premier-league/southampton-v-man-utd/winner')"
   ]
  },
  {
   "cell_type": "code",
   "execution_count": 172,
   "id": "67495404",
   "metadata": {},
   "outputs": [],
   "source": [
    "def get_odds(url):\n",
    "    try:\n",
    "        driver = webdriver.Chrome()\n",
    "        if url == '':\n",
    "            return {'url':url, 'odds': ''}\n",
    "        driver.implicitly_wait(1)\n",
    "        url = url\n",
    "        driver.get(url)\n",
    "        odds = driver.find_element(By.XPATH, '//div[@class=\"ExpanderBestOddsWrapper_e1jc6hcf\"]').text.split('\\n')\n",
    "        odds = [float(Fraction(j)) + 1.0 if '/' in j else j for j in odds]\n",
    "        odds = dict(zip(odds[::2], odds[1::2]))\n",
    "        odds = {'odds_url':url, 'odds': odds}\n",
    "    except:\n",
    "        odds = {'odds_url':url, 'odds': ''}\n",
    "    driver.quit()\n",
    "    return odds"
   ]
  }
 ],
 "metadata": {
  "kernelspec": {
   "display_name": "Python 3 (ipykernel)",
   "language": "python",
   "name": "python3"
  },
  "language_info": {
   "codemirror_mode": {
    "name": "ipython",
    "version": 3
   },
   "file_extension": ".py",
   "mimetype": "text/x-python",
   "name": "python",
   "nbconvert_exporter": "python",
   "pygments_lexer": "ipython3",
   "version": "3.7.13"
  }
 },
 "nbformat": 4,
 "nbformat_minor": 5
}
